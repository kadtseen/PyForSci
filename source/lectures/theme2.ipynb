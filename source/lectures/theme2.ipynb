{
 "cells": [
  {
   "cell_type": "markdown",
   "metadata": {},
   "source": [
    "# Форматирование блоков кода\n",
    "\n",
    "Пример кода на **C**:"
   ]
  },
  {
   "cell_type": "code",
   "execution_count": 1,
   "metadata": {},
   "outputs": [],
   "source": [
    "#include <stdio.h>\n",
    "int main(void) {\n",
    "    int i, n,  nextTerm;\n",
    "    Int t1 = 0, t2 = 1;\n",
    "    printf(\"Enter the number of terms: \");\n",
    "    scanf(\"%d\", &n);\n",
    "    printf(\"Fibonacci Series: \");\n",
    "\n",
    "    for (i = 1; i <= n; ++i) {\n",
    "        printf(\"%d, \", t1);\n",
    "        nextTerm = t1 + t2;\n",
    "        t1 = t2;\n",
    "        t2 = nextTerm;\n",
    "    }\n",
    "    return 0;\n",
    "}"
   ]
  },
  {
   "cell_type": "markdown",
   "metadata": {},
   "source": [
    "Тот же код на **Python**\n",
    "\n",
    "Вложения и блоки форматируются табуляцией (4 пробела)"
   ]
  },
  {
   "cell_type": "code",
   "execution_count": null,
   "metadata": {},
   "outputs": [],
   "source": [
    "t1=0 \n",
    "t2=1  \n",
    "n=int(input(\"Enter the number of terms:\"))\n",
    "print( \"Fibonacci Series: \")\n",
    "for x in range(1, n):\n",
    "    print(t1, end = \" \")\n",
    "    nextTerm = t1 + t2                           \n",
    "    t1 = t2\n",
    "    t2 = nextTerm"
   ]
  },
  {
   "cell_type": "markdown",
   "metadata": {},
   "source": [
    "Для поддержки кириллицы в начале скрипта пишите:"
   ]
  },
  {
   "cell_type": "code",
   "execution_count": null,
   "metadata": {},
   "outputs": [],
   "source": [
    "# -*- coding: utf-8 -*- "
   ]
  },
  {
   "cell_type": "markdown",
   "metadata": {},
   "source": [
    "# Динамическая типизация \n",
    "\n",
    "не нужно явно задавать тип переменой, можно изменять по ходу выполнения программы"
   ]
  },
  {
   "cell_type": "code",
   "execution_count": 2,
   "metadata": {},
   "outputs": [
    {
     "name": "stdout",
     "output_type": "stream",
     "text": [
      "<class 'str'>\n",
      "(3.2+0.5j)\n"
     ]
    }
   ],
   "source": [
    "a = 3            # целочисленное значение\n",
    "a = a + 0.2      # значение с плавающей запятой\n",
    "a = a + 0.5j     # комплексное значение\n",
    "a = str(a)       # строка\n",
    "print(type(a))\n",
    "print(a)"
   ]
  },
  {
   "cell_type": "markdown",
   "metadata": {},
   "source": [
    "# Ввод и вывод в консоль\n",
    "\n",
    "В коносли и в jupyter notebook все делается само собой."
   ]
  },
  {
   "cell_type": "code",
   "execution_count": null,
   "metadata": {},
   "outputs": [],
   "source": [
    "a = [1, 2, 3]"
   ]
  },
  {
   "cell_type": "markdown",
   "metadata": {},
   "source": [
    "Далее просто вводим имя переменной"
   ]
  },
  {
   "cell_type": "code",
   "execution_count": 3,
   "metadata": {},
   "outputs": [
    {
     "data": {
      "text/plain": [
       "'(3.2+0.5j)'"
      ]
     },
     "execution_count": 3,
     "metadata": {},
     "output_type": "execute_result"
    }
   ],
   "source": [
    "a"
   ]
  },
  {
   "cell_type": "markdown",
   "metadata": {},
   "source": [
    "\n",
    "\n",
    "В скриптах используются функции ``print()`` и ``input()``"
   ]
  },
  {
   "cell_type": "code",
   "execution_count": 4,
   "metadata": {},
   "outputs": [
    {
     "name": "stdout",
     "output_type": "stream",
     "text": [
      "0.0123\n"
     ]
    }
   ],
   "source": [
    "a = 1.23e-2\n",
    "print(a)"
   ]
  },
  {
   "cell_type": "code",
   "execution_count": 5,
   "metadata": {},
   "outputs": [
    {
     "name": "stdout",
     "output_type": "stream",
     "text": [
      "текст\n"
     ]
    }
   ],
   "source": [
    "print('текст')"
   ]
  },
  {
   "cell_type": "code",
   "execution_count": 6,
   "metadata": {},
   "outputs": [
    {
     "name": "stdout",
     "output_type": "stream",
     "text": [
      "83476 арбузов\n",
      "вы ввели: 83476 арбузов\n"
     ]
    }
   ],
   "source": [
    "var = input()\n",
    "print('вы ввели: ' + var)"
   ]
  },
  {
   "cell_type": "markdown",
   "metadata": {},
   "source": [
    "# Основные операторы и типы\n",
    "\n",
    "Создание переменной любого типа выглядит следующим образом:"
   ]
  },
  {
   "cell_type": "code",
   "execution_count": null,
   "metadata": {},
   "outputs": [],
   "source": [
    "имя_переменной = данные"
   ]
  },
  {
   "cell_type": "markdown",
   "metadata": {},
   "source": [
    "## Логические переменные\n",
    "\n",
    "Логические переменные могут принимать значения ``True`` или ``False``. Используются в условных операторах."
   ]
  },
  {
   "cell_type": "code",
   "execution_count": 9,
   "metadata": {},
   "outputs": [
    {
     "name": "stdout",
     "output_type": "stream",
     "text": [
      "<class 'bool'>\n",
      "a = False\n"
     ]
    }
   ],
   "source": [
    "b = True              \n",
    "a = False\n",
    "\n",
    "if b:\n",
    "    print(type(b))\n",
    "    print('a =',a)"
   ]
  },
  {
   "cell_type": "markdown",
   "metadata": {},
   "source": [
    "## Числовые переменные \n",
    "К стандартным числовым типам относятся целочисленные (int), числа с плавающей точкой (float) и комплексные числа (complex)."
   ]
  },
  {
   "cell_type": "code",
   "execution_count": 30,
   "metadata": {},
   "outputs": [
    {
     "name": "stdout",
     "output_type": "stream",
     "text": [
      "целое число\t\t\t <class 'int'> 42\n",
      "число с плавающей запятой\t <class 'float'> 0.42\n",
      "комплесное число\t\t <class 'complex'> (4.2-0.1j)\n"
     ]
    }
   ],
   "source": [
    "i = 42                # целые\n",
    "f1 = 4.2e1            # числа с плавающей точкой\n",
    "f2 = 0.42\n",
    "c = 4.2 - 0.1j        # комплексные числа\n",
    "\n",
    "print('целое число\\t\\t\\t', type(i), i)\n",
    "print('число с плавающей запятой\\t', type(f2), f2)\n",
    "print('комплесное число\\t\\t', type(c), c)"
   ]
  },
  {
   "cell_type": "code",
   "execution_count": 29,
   "metadata": {},
   "outputs": [
    {
     "name": "stdout",
     "output_type": "stream",
     "text": [
      "\n",
      "Переводим числа: 2563.4420839379213 2563 0.00125\n"
     ]
    }
   ],
   "source": [
    "print('\\nПереводим числа:', f1**2.1, int(f1**2.1), float('1.25e-3'))"
   ]
  },
  {
   "cell_type": "markdown",
   "metadata": {},
   "source": [
    "## Списки и кортежи\n",
    "\n",
    "Списки (аналог массивов) - один из наиболее часто используемых типов. Обозначаются ``[элемент1, элемент2, .. элементN]``. В качестве элементов могут выступать любые типы данных, включая другие списки. Элементы одного списка  могут быть разного типа."
   ]
  },
  {
   "cell_type": "code",
   "execution_count": 35,
   "metadata": {},
   "outputs": [
    {
     "name": "stdout",
     "output_type": "stream",
     "text": [
      "<class 'list'> 23\n",
      "['д', 'е', 'л', 'а', 'е', 'м', ' ', 'с', 'п', 'и', 'с', 'о', 'к', ' ', 'и', 'з', ' ', 'с', 'т', 'р', 'о', 'к', 'и']\n"
     ]
    }
   ],
   "source": [
    "l = [1, 2, 3, 4]\n",
    "l = [[3, 'строка', i],\n",
    "     [1, -13.3+2j, 4],\n",
    "     [f2, 1.47e-7, 2],\n",
    "     'элемент списка']\n",
    "l = list('делаем список из строки')\n",
    "\n",
    "print(type(l), len(l))\n",
    "print(l)"
   ]
  },
  {
   "cell_type": "markdown",
   "metadata": {},
   "source": [
    "Кортежи - то же что и списки, только их нельзя изменить после создания"
   ]
  },
  {
   "cell_type": "code",
   "execution_count": 19,
   "metadata": {},
   "outputs": [
    {
     "name": "stdout",
     "output_type": "stream",
     "text": [
      "<class 'tuple'> (1, 2, -2.7)\n"
     ]
    }
   ],
   "source": [
    "t = (1, 2, -2.7)\n",
    "\n",
    "print(type(t), t)"
   ]
  },
  {
   "cell_type": "markdown",
   "metadata": {},
   "source": [
    "## Словари и множества\n",
    "\n",
    "Словарь - набор элементов ``ключ: значение``.\n",
    "Простейший пример создания и использования:"
   ]
  },
  {
   "cell_type": "code",
   "execution_count": 21,
   "metadata": {},
   "outputs": [
    {
     "name": "stdout",
     "output_type": "stream",
     "text": [
      "12.01\n",
      "<class 'dict'> {'ключ': 'значение', 'C': 12.01, 'N': 14.01}\n"
     ]
    }
   ],
   "source": [
    "d = {'ключ':'значение', 'C':12.01, 'N':14.01}\n",
    "\n",
    "print(d['C'])\n",
    "print(type(d), d)"
   ]
  },
  {
   "cell_type": "markdown",
   "metadata": {},
   "source": [
    "Множества - набор не повторяющихся элементов"
   ]
  },
  {
   "cell_type": "code",
   "execution_count": 34,
   "metadata": {},
   "outputs": [
    {
     "name": "stdout",
     "output_type": "stream",
     "text": [
      "<class 'set'> {'ь', 'к', 'с', 'ы', 'в', 'о', 'м', 'А', 'н', 'л', 'т', '?', ' ', 'а', 'е', 'у', 'и'}\n"
     ]
    }
   ],
   "source": [
    "s = {'o', 'l', 4}\n",
    "s = set('А какие тут есть уникальные символы?')\n",
    "\n",
    "print(type(s), s)"
   ]
  },
  {
   "cell_type": "markdown",
   "metadata": {},
   "source": [
    "## Строки"
   ]
  },
  {
   "cell_type": "code",
   "execution_count": 33,
   "metadata": {},
   "outputs": [
    {
     "name": "stdout",
     "output_type": "stream",
     "text": [
      "<class 'str'> 1.6e-19\n"
     ]
    }
   ],
   "source": [
    "s = 'просто строка'\n",
    "s = '2.5 попугая'\n",
    "s = str(1.6e-19)\n",
    "\n",
    "print(type(s), s)"
   ]
  },
  {
   "cell_type": "markdown",
   "metadata": {},
   "source": [
    "## Операторы сравнения\n",
    "К операторам сравнения можно отнести \n",
    "\n",
    "``==``,  ``!=`` - проверка равенства и неравенства, соответственно;  \n",
    "\n",
    "``<`` и ``>`` - проверка условий больше, меньше;  \n",
    "\n",
    "``<=`` и ``>=`` - проверка условий больше или равно и меньше или равно. \n",
    "\n",
    "Каждый из операторов сравнения возвращает ``True`` или ``False``"
   ]
  },
  {
   "cell_type": "code",
   "execution_count": 40,
   "metadata": {},
   "outputs": [
    {
     "name": "stdout",
     "output_type": "stream",
     "text": [
      "False\n",
      "<class 'bool'>\n",
      "True\n"
     ]
    }
   ],
   "source": [
    "print(3 > 5)\n",
    "print(type(1. != 2))\n",
    "\n",
    "is_true = 300.0e-2 == 3\n",
    "\n",
    "print(is_true)"
   ]
  },
  {
   "cell_type": "markdown",
   "metadata": {},
   "source": [
    "## Условные операторы\n",
    "Условные операторы выполняют проверку тех или иных условий. В python имется 3 стандартных условных конструкций:\n",
    "\n",
    "**простое условие на выполение инструкций**"
   ]
  },
  {
   "cell_type": "code",
   "execution_count": null,
   "metadata": {},
   "outputs": [],
   "source": [
    "if условие:\n",
    "    инструкция\n",
    "    инструкция"
   ]
  },
  {
   "cell_type": "markdown",
   "metadata": {},
   "source": [
    "например: если a>0, то пишем что число положительное"
   ]
  },
  {
   "cell_type": "code",
   "execution_count": 45,
   "metadata": {},
   "outputs": [],
   "source": [
    "if a > 0:\n",
    "    print('число положительное')"
   ]
  },
  {
   "cell_type": "markdown",
   "metadata": {},
   "source": [
    "тоже самое:\n",
    "присваиваем переменной condition логическое значение"
   ]
  },
  {
   "cell_type": "code",
   "execution_count": 46,
   "metadata": {},
   "outputs": [],
   "source": [
    "condition = a > 0"
   ]
  },
  {
   "cell_type": "markdown",
   "metadata": {},
   "source": [
    "в случае лишь одной инструкции после if, elif или else инструкцию можно записать сразу после условия"
   ]
  },
  {
   "cell_type": "code",
   "execution_count": 47,
   "metadata": {},
   "outputs": [],
   "source": [
    "if condition: print('число положительное')"
   ]
  },
  {
   "cell_type": "markdown",
   "metadata": {},
   "source": [
    "**условие с одной альтернативой**"
   ]
  },
  {
   "cell_type": "code",
   "execution_count": null,
   "metadata": {},
   "outputs": [],
   "source": [
    "if условие:\n",
    "    инструкция\n",
    "    инструкция\n",
    "else:\n",
    "    инструкция\n",
    "    инструкция"
   ]
  },
  {
   "cell_type": "markdown",
   "metadata": {},
   "source": [
    "например, если a >= b, то вычитаем из a единичку, иначе прибавляем к a единичку"
   ]
  },
  {
   "cell_type": "code",
   "execution_count": 48,
   "metadata": {},
   "outputs": [],
   "source": [
    "if a>=b:\n",
    "    a -= 1    # или a = a - 1\n",
    "else:\n",
    "    a += 1    # или a = a + 1"
   ]
  },
  {
   "cell_type": "markdown",
   "metadata": {},
   "source": [
    "**условия с множественным выбором**"
   ]
  },
  {
   "cell_type": "code",
   "execution_count": null,
   "metadata": {},
   "outputs": [],
   "source": [
    "if условие_1:\n",
    "    инструкция\n",
    "    инструкция\n",
    "elif условие_2:\n",
    "    инструкция\n",
    "    инструкция\n",
    "    #.......\n",
    "elif условие_n:\n",
    "    инструкция\n",
    "    инструкция\n",
    "else:\n",
    "    инструкция\n",
    "    инструкция"
   ]
  },
  {
   "cell_type": "markdown",
   "metadata": {},
   "source": [
    "например, проверяем тип атома и присваиваем соответствующую массу"
   ]
  },
  {
   "cell_type": "code",
   "execution_count": null,
   "metadata": {},
   "outputs": [],
   "source": [
    "m = 0\n",
    "if atom == 'C':     m = 12.\n",
    "elif atom == 'H':   m = 1.\n",
    "elif atom == 'O':   m = 16.\n",
    "else:\n",
    "    print('такого атома не знаю')"
   ]
  },
  {
   "cell_type": "markdown",
   "metadata": {},
   "source": [
    "## Цикл while\n",
    "\n",
    "Цикл ``while`` выполняется до тех пор, пока условие в нем верно"
   ]
  },
  {
   "cell_type": "code",
   "execution_count": null,
   "metadata": {},
   "outputs": [],
   "source": [
    "while условие:\n",
    "    делаем какие-то действия 1\n",
    "    делаем какие-то действия 2\n",
    "    ..."
   ]
  },
  {
   "cell_type": "markdown",
   "metadata": {},
   "source": [
    "выводим пока i < 10"
   ]
  },
  {
   "cell_type": "code",
   "execution_count": 50,
   "metadata": {},
   "outputs": [
    {
     "name": "stdout",
     "output_type": "stream",
     "text": [
      "a0\n",
      "a2\n",
      "a4\n",
      "a6\n",
      "a8\n"
     ]
    }
   ],
   "source": [
    "i = 0\n",
    "while i < 10:\n",
    "    print('a' + str(i))\n",
    "    i += 2"
   ]
  },
  {
   "cell_type": "markdown",
   "metadata": {},
   "source": [
    "## Цикл for и функция range\n",
    "\n",
    "Цикл ``for`` выполняет инструкции, последовательно итерируя набор. Пример итерации по некоторому списку:"
   ]
  },
  {
   "cell_type": "code",
   "execution_count": null,
   "metadata": {},
   "outputs": [],
   "source": [
    "for element in some_list:\n",
    "    набор \n",
    "    инструкций"
   ]
  },
  {
   "cell_type": "markdown",
   "metadata": {},
   "source": [
    "Выводим число, и его квадрат"
   ]
  },
  {
   "cell_type": "code",
   "execution_count": 66,
   "metadata": {},
   "outputs": [
    {
     "name": "stdout",
     "output_type": "stream",
     "text": [
      "1 \t 1\n",
      "7 \t 49\n",
      "2.3 \t 5.289999999999999\n",
      "0 \t 0\n"
     ]
    }
   ],
   "source": [
    "for i in [1, 7, 2.3, 0]: print(i,'\\t', i**2)"
   ]
  },
  {
   "cell_type": "markdown",
   "metadata": {},
   "source": [
    "Цикл ``for`` может выводить значения любого итерируемого объекта, будь то список, кортеж, словарь (по ключам), множества, строки и т.д.:"
   ]
  },
  {
   "cell_type": "code",
   "execution_count": 58,
   "metadata": {},
   "outputs": [
    {
     "name": "stdout",
     "output_type": "stream",
     "text": [
      "Rблоко"
     ]
    }
   ],
   "source": [
    "for s in 'Яблоко':\n",
    "    if s == 'Я':\n",
    "        print('R', end = '')\n",
    "    else:\n",
    "        print(s, end = '')"
   ]
  },
  {
   "cell_type": "markdown",
   "metadata": {},
   "source": [
    "Для удобства итераций по последовательному ряду числе можно использовать функцию ``range(начало, конец, шаг)``.\n",
    "\n",
    "Функция ``range()`` в качестве аргументов принимает только целочисленные значения.\n",
    "\n",
    "Выводим числа от 0 до 9:"
   ]
  },
  {
   "cell_type": "code",
   "execution_count": 59,
   "metadata": {},
   "outputs": [
    {
     "name": "stdout",
     "output_type": "stream",
     "text": [
      "0, 1, 2, 3, 4, 5, 6, 7, 8, 9, "
     ]
    }
   ],
   "source": [
    "for i in range(10): print(i, end = ', ')"
   ]
  },
  {
   "cell_type": "markdown",
   "metadata": {},
   "source": [
    "Выводим значения от 10 до 19"
   ]
  },
  {
   "cell_type": "code",
   "execution_count": 60,
   "metadata": {},
   "outputs": [
    {
     "name": "stdout",
     "output_type": "stream",
     "text": [
      "10, 11, 12, 13, 14, 15, 16, 17, 18, 19, "
     ]
    }
   ],
   "source": [
    "for i in range(10, 20): print(i, end = ', ')"
   ]
  },
  {
   "cell_type": "markdown",
   "metadata": {},
   "source": [
    "Выводим значения от -9 до 18 с шагом 3 (т.е. -9, -6, ..., 18)"
   ]
  },
  {
   "cell_type": "code",
   "execution_count": 61,
   "metadata": {},
   "outputs": [
    {
     "name": "stdout",
     "output_type": "stream",
     "text": [
      "-9, -6, -3, 0, 3, 6, 9, 12, 15, 18, "
     ]
    }
   ],
   "source": [
    "for i in range(-9, 20, 3): print(i, end = ', ')"
   ]
  },
  {
   "cell_type": "markdown",
   "metadata": {},
   "source": [
    "Выводим значения от 20 до 12 с шагом 2 (т.е. 20, 18, ..., 12)"
   ]
  },
  {
   "cell_type": "code",
   "execution_count": 62,
   "metadata": {},
   "outputs": [
    {
     "name": "stdout",
     "output_type": "stream",
     "text": [
      "20, 18, 16, 14, 12, "
     ]
    }
   ],
   "source": [
    "for i in range(20, 10, -2): print(i, end = ', ')"
   ]
  },
  {
   "cell_type": "markdown",
   "metadata": {},
   "source": [
    "Функцией ``range()`` можно генерировать списки:"
   ]
  },
  {
   "cell_type": "code",
   "execution_count": 65,
   "metadata": {},
   "outputs": [
    {
     "name": "stdout",
     "output_type": "stream",
     "text": [
      "range(0, 10)\n",
      "[0, 1, 2, 3, 4, 5, 6, 7, 8, 9]\n"
     ]
    }
   ],
   "source": [
    "print(range(10))\n",
    "print(list(range(10)))"
   ]
  },
  {
   "cell_type": "code",
   "execution_count": 84,
   "metadata": {},
   "outputs": [
    {
     "ename": "ValueError",
     "evalue": "could not convert string to float: '6,342'",
     "output_type": "error",
     "traceback": [
      "\u001b[0;31m---------------------------------------------------------------------------\u001b[0m",
      "\u001b[0;31mValueError\u001b[0m                                Traceback (most recent call last)",
      "\u001b[0;32m<ipython-input-84-269abd8ca84e>\u001b[0m in \u001b[0;36m<module>\u001b[0;34m()\u001b[0m\n\u001b[0;32m----> 1\u001b[0;31m \u001b[0mst\u001b[0m\u001b[0;34m=\u001b[0m\u001b[0mfloat\u001b[0m\u001b[0;34m(\u001b[0m\u001b[0;34m'6,342'\u001b[0m\u001b[0;34m)\u001b[0m\u001b[0;34m\u001b[0m\u001b[0m\n\u001b[0m\u001b[1;32m      2\u001b[0m \u001b[0mprint\u001b[0m\u001b[0;34m(\u001b[0m\u001b[0mst\u001b[0m\u001b[0;34m)\u001b[0m\u001b[0;34m\u001b[0m\u001b[0m\n",
      "\u001b[0;31mValueError\u001b[0m: could not convert string to float: '6,342'"
     ]
    }
   ],
   "source": []
  }
 ],
 "metadata": {
  "kernelspec": {
   "display_name": "Python 3",
   "language": "python",
   "name": "python3"
  },
  "language_info": {
   "codemirror_mode": {
    "name": "ipython",
    "version": 3
   },
   "file_extension": ".py",
   "mimetype": "text/x-python",
   "name": "python",
   "nbconvert_exporter": "python",
   "pygments_lexer": "ipython3",
   "version": "3.6.5"
  }
 },
 "nbformat": 4,
 "nbformat_minor": 2
}
