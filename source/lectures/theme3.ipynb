{
 "cells": [
  {
   "cell_type": "markdown",
   "metadata": {},
   "source": [
    "# Числа\n",
    "\n",
    "В python существует три стандартных класса чисел: целочисленные (int), числа с плавающей запятой (float) и комплексные числа (complex). Подробное описание спецификаций численных типов Python можно найти в <a href=\"https://docs.python.org/3.8/library/stdtypes.html?#numeric-types-int-float-complex\">документации</a>. \n",
    "\n",
    "Общие операции ``+``, ``-``, ``*``, ``/``, ``**`` (степень). "
   ]
  },
  {
   "cell_type": "code",
   "execution_count": 25,
   "metadata": {},
   "outputs": [
    {
     "name": "stdout",
     "output_type": "stream",
     "text": [
      "5\n",
      "1.5\n",
      "3.0\n",
      "1\n"
     ]
    }
   ],
   "source": [
    "print(2+3)\n",
    "print(3/2)\n",
    "print(9**0.5)\n",
    "print(0**0)"
   ]
  },
  {
   "cell_type": "markdown",
   "metadata": {},
   "source": [
    "## Целые числа (int)\n",
    "\n",
    "``x//y`` - целочисленное деление (округление в сторону $-\\infty$)\n",
    "\n",
    "``x%y`` - остаток от деления\n",
    "\n",
    "``divmod(x,y)`` - пара значений (``x//y``, ``x%y``)"
   ]
  },
  {
   "cell_type": "code",
   "execution_count": 10,
   "metadata": {},
   "outputs": [
    {
     "name": "stdout",
     "output_type": "stream",
     "text": [
      "2\n",
      "1\n",
      "(2, 1)\n"
     ]
    }
   ],
   "source": [
    "print(7//3)\n",
    "print(7%3)\n",
    "print(divmod(7,3))"
   ]
  },
  {
   "cell_type": "markdown",
   "metadata": {},
   "source": [
    "``int(a)`` - преобразование ``a`` в int"
   ]
  },
  {
   "cell_type": "code",
   "execution_count": 9,
   "metadata": {},
   "outputs": [
    {
     "name": "stdout",
     "output_type": "stream",
     "text": [
      "654\n",
      "-234\n"
     ]
    }
   ],
   "source": [
    "print(int(' 654'))\n",
    "print(int(-234.76))"
   ]
  },
  {
   "cell_type": "markdown",
   "metadata": {},
   "source": [
    "## Числа с плавающей запятой (float)\n",
    "\n",
    "``float(a)`` - перевод ``a`` в float"
   ]
  },
  {
   "cell_type": "code",
   "execution_count": 35,
   "metadata": {},
   "outputs": [
    {
     "name": "stdout",
     "output_type": "stream",
     "text": [
      "340.0\n"
     ]
    }
   ],
   "source": [
    "print(float('3.4e2'))"
   ]
  },
  {
   "attachments": {
    "t2_float64.svg": {
     "image/svg+xml": [
      "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"
     ]
    }
   },
   "cell_type": "markdown",
   "metadata": {},
   "source": [
    "В некоторых задачах важно понимать как компьютер представляет числа. Наиболее частый тип используемых чисел для научного применения является <a href=\"https://en.wikipedia.org/wiki/Double-precision_floating-point_format\">64-битный float</a>.\n",
    "![t2_float64.svg](attachment:t2_float64.svg)\n",
    "\n",
    "$$(-1)^{b_{63}}\\times(\\overline{1.b_{51}b_{50}..b_0})_2\\times 2^{(\\overline{b_{62}b_{61}..b_{52}})_2 - 1023_{10}}$$\n",
    "\n",
    "Рассмотрим число:\n",
    "\n",
    "1 10000000101 0111001000000000000000000000000000000000000000000000 \n",
    "\n",
    "знак: $(-1)^1 = -1$\n",
    "\n",
    "степень: $ 2^{10} + 2^2 +2^0=1029$;&emsp;&emsp; $2^{1029-1023} = 2^6$\n",
    "\n",
    "мантисса: $1.0111001_2 = 10111001_2\\times 2^{-7} = (2^7 + 2^5+2^4 +2^3 +2^0)\\times2^{-7} = 185\\times2^{-7}$\n",
    "\n",
    "число: $-185\\times 2^{-7} \\times 2^6 = -185\\times 2^{-1} = - 92.5$"
   ]
  },
  {
   "cell_type": "code",
   "execution_count": 36,
   "metadata": {},
   "outputs": [
    {
     "name": "stdout",
     "output_type": "stream",
     "text": [
      "True\n"
     ]
    }
   ],
   "source": [
    "a = 1.7e308\n",
    "b = a - 2.5\n",
    "print(a==b)"
   ]
  },
  {
   "cell_type": "markdown",
   "metadata": {},
   "source": [
    "Машинное $\\epsilon$ - минимальное число, при сложении которого с единицей результат будет отличаться от единицы: $1+\\epsilon \\neq 1$ \n",
    "\n",
    "Округление же в таком случае происходит до ближайшего четного разряда (т.е. по правилу $2.5\\approx2$, $3.5\\approx4$) \n",
    "\n",
    "Все это может приводить к ошибке $-1+\\left(1+\\frac{\\epsilon}{2}\\right)\\neq\\left(-1+1\\right)+\\frac{\\epsilon}{2}$"
   ]
  },
  {
   "cell_type": "markdown",
   "metadata": {},
   "source": [
    "float поддерживает специальные 'не числа' ``nan`` и ``inf``."
   ]
  },
  {
   "cell_type": "code",
   "execution_count": 30,
   "metadata": {},
   "outputs": [
    {
     "name": "stdout",
     "output_type": "stream",
     "text": [
      "nan\n",
      "False\n",
      "False\n",
      "False\n"
     ]
    }
   ],
   "source": [
    "n = float('nan')\n",
    "print(n)\n",
    "print(n>=0)\n",
    "print(n<=0)\n",
    "print(n==n)"
   ]
  },
  {
   "cell_type": "code",
   "execution_count": 23,
   "metadata": {},
   "outputs": [
    {
     "name": "stdout",
     "output_type": "stream",
     "text": [
      "inf\n",
      "True\n",
      "-inf\n"
     ]
    }
   ],
   "source": [
    "infty = float('inf')\n",
    "print(infty)\n",
    "print(infty>1.7e308)\n",
    "print(-1.7e308-1e307)"
   ]
  },
  {
   "cell_type": "markdown",
   "metadata": {},
   "source": [
    "## Комплексные числа (complex)\n",
    "\n",
    "стандартная запись: ``C = Re + Imj``, ``с = 1.5 - 0.3j``\n",
    "\n",
    "``c.conjugate()`` - комплексное сопряжение ``c``\n",
    "\n",
    "``c.real`` - действительная часть\n",
    "\n",
    "``c.imag`` - мнимая часть\n",
    "\n",
    "``complex(Re, Im)`` - перевод ``Re, Im`` в complex"
   ]
  },
  {
   "cell_type": "code",
   "execution_count": 37,
   "metadata": {},
   "outputs": [
    {
     "data": {
      "text/plain": [
       "(1.5-0.3j)"
      ]
     },
     "execution_count": 37,
     "metadata": {},
     "output_type": "execute_result"
    }
   ],
   "source": [
    "complex(1.5, -0.3)"
   ]
  },
  {
   "cell_type": "code",
   "execution_count": 52,
   "metadata": {},
   "outputs": [
    {
     "name": "stdout",
     "output_type": "stream",
     "text": [
      "(0.7071067811865475+0.7071067811865475j)\n",
      "(0.7071067811865475-0.7071067811865475j) (0.9999999999999998+0j)\n",
      "0.7071067811865475 -0.7071067811865475\n"
     ]
    }
   ],
   "source": [
    "c = 1/2**0.5 * (1+ 1j)\n",
    "print(c)\n",
    "\n",
    "c_ = c.conjugate()\n",
    "print(c_, c*c_)\n",
    "print(c.real, c_.imag)"
   ]
  },
  {
   "cell_type": "markdown",
   "metadata": {},
   "source": [
    "## Модуль math\n",
    "Модуль math является встроенным модулем python для простейших математических операций. Описание модуля и его функций можно найти в  <a href=\"https://docs.python.org/3/library/math.html\">документации модуля math</a>. На практике, удобнее и эффективнее использовать специализированный модуль numerical python (NumPy). При дальнейшем изучении курса мы будем пользоваться именно им.  \n",
    "\n",
    "Для использования любого модуля или отдкльной функции, метода, или константы из него, необоходимо сначала его подключить к вашему скрипту. Рассмотрим несколько примеров подключения и использования модуля math (рассчитываем $\\sin (\\frac{\\pi}{4})$):"
   ]
  },
  {
   "cell_type": "code",
   "execution_count": 53,
   "metadata": {},
   "outputs": [],
   "source": [
    "import math     \n",
    "y = math.sin(math.pi/4)   # любая другая функция модуля вызывается схожим способом\n",
    "#    ^    ^\n",
    "#    |    |\n",
    "#    | название функции в модуле\n",
    "#    |\n",
    "# название модуля"
   ]
  },
  {
   "cell_type": "markdown",
   "metadata": {},
   "source": [
    "Внутри вашего скрипта любому сторонyему модулю можно дать свое локальное имя (часто используется в случае длинного названия модуля)"
   ]
  },
  {
   "cell_type": "code",
   "execution_count": 57,
   "metadata": {},
   "outputs": [],
   "source": [
    "import math as m        # в дальнейшем к модулю math можно обращаться через m\n",
    "y = m.sin(m.pi/4)       # тоже что в предыдущем примере math.sin(math.pi/4)"
   ]
  },
  {
   "cell_type": "markdown",
   "metadata": {},
   "source": [
    "Помимо этого, можно подгрузить отдельные объекты из модуля"
   ]
  },
  {
   "cell_type": "code",
   "execution_count": 55,
   "metadata": {},
   "outputs": [],
   "source": [
    "from math import sin, pi\n",
    "y = sin(pi/4)"
   ]
  },
  {
   "cell_type": "markdown",
   "metadata": {},
   "source": [
    "или загрузить модуль полностью"
   ]
  },
  {
   "cell_type": "code",
   "execution_count": 56,
   "metadata": {},
   "outputs": [],
   "source": [
    "from math import *\n",
    "y = sin(pi/4)"
   ]
  },
  {
   "cell_type": "markdown",
   "metadata": {},
   "source": [
    "**Примечание**\n",
    "\n",
    "В качестве подключаемого модуля может быть ваш собственный файл (удобно использовать для разбиения фунционала в случае больших проектов или в качестве вашего личного модуля с уже написанными наиболее частоиспользуемыми алгоритмами. Подключение файла `my_module.py` лежащего в той же папке, где и основной скрипт, происходит аналогично другим модулям ``import my_module``"
   ]
  },
  {
   "cell_type": "markdown",
   "metadata": {},
   "source": [
    "# Списки\n",
    "Подробное описание в <a href=\"https://docs.python.org/3.8/library/stdtypes.html#sequence-types-list-tuple-range\">документации</a>\n",
    "\n",
    "Создание пустого списка:"
   ]
  },
  {
   "cell_type": "code",
   "execution_count": 59,
   "metadata": {},
   "outputs": [
    {
     "name": "stdout",
     "output_type": "stream",
     "text": [
      "[]\n"
     ]
    }
   ],
   "source": [
    "l = []\n",
    "print(l)"
   ]
  },
  {
   "cell_type": "markdown",
   "metadata": {},
   "source": [
    "Создание списка с однообразным содержимым"
   ]
  },
  {
   "cell_type": "code",
   "execution_count": 88,
   "metadata": {},
   "outputs": [
    {
     "name": "stdout",
     "output_type": "stream",
     "text": [
      "[None, None, None, None]\n"
     ]
    }
   ],
   "source": [
    "l = [None for i in range(4)]\n",
    "print(l)"
   ]
  },
  {
   "cell_type": "code",
   "execution_count": 89,
   "metadata": {},
   "outputs": [
    {
     "name": "stdout",
     "output_type": "stream",
     "text": [
      "[['x', 'y', 'z'], ['x', 'y', 'z'], ['x', 'y', 'z'], ['x', 'y', 'z'], ['x', 'y', 'z']]\n"
     ]
    }
   ],
   "source": [
    "l = [['x', 'y', 'z'] for i in range(5)]\n",
    "print(l)"
   ]
  },
  {
   "cell_type": "markdown",
   "metadata": {},
   "source": [
    "## Обращения к элементам списка"
   ]
  },
  {
   "cell_type": "code",
   "execution_count": 65,
   "metadata": {},
   "outputs": [
    {
     "name": "stdout",
     "output_type": "stream",
     "text": [
      "[1, 2, [3, 4], 5]\n",
      "5 5 1 1\n"
     ]
    }
   ],
   "source": [
    "l = [1, 2, [3, 4], 5]\n",
    "print(l)\n",
    "print(l[3], l[-1], l[0], l[-4])"
   ]
  },
  {
   "cell_type": "code",
   "execution_count": 68,
   "metadata": {},
   "outputs": [
    {
     "name": "stdout",
     "output_type": "stream",
     "text": [
      "[3, 4]\n",
      "3\n"
     ]
    }
   ],
   "source": [
    "print(l[2])\n",
    "print(l[2][0])"
   ]
  },
  {
   "cell_type": "markdown",
   "metadata": {},
   "source": [
    "## Срезы списков\n",
    "Из списков можно легко генерировать списки меньшего размера"
   ]
  },
  {
   "cell_type": "code",
   "execution_count": 76,
   "metadata": {},
   "outputs": [
    {
     "name": "stdout",
     "output_type": "stream",
     "text": [
      "[0, 1, 2, 3, 4, 5, 6, 7, 8, 9]\n",
      "[2, 3, 4, 5]\n",
      "[2, 3, 4, 5, 6, 7, 8, 9]\n"
     ]
    }
   ],
   "source": [
    "a = list(range(10))\n",
    "print(a)\n",
    "print(a[2:6])\n",
    "print(a[2:])"
   ]
  },
  {
   "cell_type": "markdown",
   "metadata": {},
   "source": [
    "Можно делать срезы с определенным шагом"
   ]
  },
  {
   "cell_type": "code",
   "execution_count": 84,
   "metadata": {},
   "outputs": [
    {
     "name": "stdout",
     "output_type": "stream",
     "text": [
      "[1, 3, 5, 7]\n",
      "[0, 3, 6, 9]\n",
      "[8, 7, 6, 5, 4, 3, 2, 1]\n"
     ]
    }
   ],
   "source": [
    "print(a[1:8:2])\n",
    "print(a[::3])\n",
    "print(a[-2:0:-1])"
   ]
  },
  {
   "cell_type": "markdown",
   "metadata": {},
   "source": [
    "## Свойства списков\n",
    "\n",
    "``len(a)`` - длина ``a`` \n",
    "\n",
    "``min(a)`` - минимальный элемент ``a``\n",
    "\n",
    "``max(s)`` - максимальный элемент ``a``"
   ]
  },
  {
   "cell_type": "code",
   "execution_count": 96,
   "metadata": {},
   "outputs": [
    {
     "name": "stdout",
     "output_type": "stream",
     "text": [
      "6\n",
      "3\n",
      "-54\n"
     ]
    }
   ],
   "source": [
    "a = [1, 2, 3, -54, 2, 2]\n",
    "print(len(a))\n",
    "print(max(a))\n",
    "print(min(a))"
   ]
  },
  {
   "cell_type": "markdown",
   "metadata": {},
   "source": [
    "``a.index(x)`` - индекс первого вхождения ``x`` в ``a``\n",
    "\n",
    "``a.count(x)`` - сколько раз ``x`` встречается в ``a``"
   ]
  },
  {
   "cell_type": "code",
   "execution_count": 97,
   "metadata": {},
   "outputs": [
    {
     "name": "stdout",
     "output_type": "stream",
     "text": [
      "1\n",
      "3\n"
     ]
    }
   ],
   "source": [
    "print(a.index(2))\n",
    "print(a.count(2))"
   ]
  },
  {
   "cell_type": "markdown",
   "metadata": {},
   "source": [
    "Списки поддерживают некоторые логические операции"
   ]
  },
  {
   "cell_type": "code",
   "execution_count": 98,
   "metadata": {},
   "outputs": [
    {
     "name": "stdout",
     "output_type": "stream",
     "text": [
      "True\n",
      "False\n",
      "True\n"
     ]
    }
   ],
   "source": [
    "l = [1, 2, [3, 4], 5]\n",
    "print(1 in l)\n",
    "print(3 in l)\n",
    "print(3 in l[2])"
   ]
  },
  {
   "cell_type": "markdown",
   "metadata": {},
   "source": [
    "## Некоторые операции со списками\n",
    "\n",
    "Простейшие и самые необходимые операции\n",
    "\n",
    "``a[i] = x`` - заменить элемент ``a[i]`` на ``x``\n",
    "\n",
    "``a[i:j] = x`` - тоже, но для среза ``a[i:j]`` (``x`` должно быть итерируемым)"
   ]
  },
  {
   "cell_type": "code",
   "execution_count": 112,
   "metadata": {},
   "outputs": [
    {
     "name": "stdout",
     "output_type": "stream",
     "text": [
      "[0, 1, 2, 3, 4, 5]\n",
      "[0, 1, 2, 3, 4, 6]\n",
      "[0, 1, 2, 3, 4, 6, 7, 8]\n"
     ]
    }
   ],
   "source": [
    "a = list(range(6))\n",
    "print(a)\n",
    "a[5] = 6\n",
    "print(a)\n",
    "a[5:6] = [6, 7, 8]\n",
    "print(a)"
   ]
  },
  {
   "cell_type": "markdown",
   "metadata": {},
   "source": [
    "``a.append(x)`` - добавить элемент ``x`` в конец ``a``\n",
    "\n",
    "``a.pop(i)`` - удалить элемент ``a[i]``"
   ]
  },
  {
   "cell_type": "code",
   "execution_count": 113,
   "metadata": {},
   "outputs": [
    {
     "name": "stdout",
     "output_type": "stream",
     "text": [
      "[0, 1, 2, 3, 4, 6, 7, 8, 9]\n",
      "[0, 2, 3, 4, 6, 7, 8, 9]\n"
     ]
    }
   ],
   "source": [
    "a.append(9)\n",
    "print(a)\n",
    "a.pop(1)\n",
    "print(a)"
   ]
  },
  {
   "cell_type": "markdown",
   "metadata": {},
   "source": [
    "Списки поддерживают операции объединения и мультипликации"
   ]
  },
  {
   "cell_type": "code",
   "execution_count": null,
   "metadata": {},
   "outputs": [],
   "source": [
    "a = [1, 2, 3]\n",
    "b = ['a', 'b', 'c']\n",
    "print(a + b)\n",
    "print(a * 3)"
   ]
  },
  {
   "cell_type": "markdown",
   "metadata": {},
   "source": [
    "**Внимание** \n",
    "\n",
    "При присваивание списка, получаемый объект является тем же самым списком. Изменяя его, вы изменяете исходный список"
   ]
  },
  {
   "cell_type": "code",
   "execution_count": 117,
   "metadata": {},
   "outputs": [
    {
     "name": "stdout",
     "output_type": "stream",
     "text": [
      "[0, 2, 3]\n"
     ]
    }
   ],
   "source": [
    "a = [1, 2, 3]\n",
    "b = a\n",
    "b[0] = 0\n",
    "print(a)"
   ]
  },
  {
   "cell_type": "markdown",
   "metadata": {},
   "source": [
    "Этого можно избежать делая поэлементым копированием"
   ]
  },
  {
   "cell_type": "code",
   "execution_count": 118,
   "metadata": {},
   "outputs": [
    {
     "name": "stdout",
     "output_type": "stream",
     "text": [
      "[1, 2, 3]\n"
     ]
    }
   ],
   "source": [
    "a = [1, 2, 3]\n",
    "b = a[:]\n",
    "b[0] = 0\n",
    "print(a)"
   ]
  },
  {
   "cell_type": "code",
   "execution_count": 127,
   "metadata": {},
   "outputs": [
    {
     "name": "stdout",
     "output_type": "stream",
     "text": [
      "[0.757, 0.586, 0.0]\n"
     ]
    }
   ],
   "source": [
    "water = {'O'  : [0.000, 0.000, 0.0],\n",
    "         'H_1': [0.757, 0.586, 0.0],\n",
    "         'H_2': [-0.757, 0.586, 0.0]}\n",
    "print(water['H_1'])"
   ]
  }
 ],
 "metadata": {
  "kernelspec": {
   "display_name": "Python 3",
   "language": "python",
   "name": "python3"
  },
  "language_info": {
   "codemirror_mode": {
    "name": "ipython",
    "version": 3
   },
   "file_extension": ".py",
   "mimetype": "text/x-python",
   "name": "python",
   "nbconvert_exporter": "python",
   "pygments_lexer": "ipython3",
   "version": "3.6.5"
  }
 },
 "nbformat": 4,
 "nbformat_minor": 2
}
