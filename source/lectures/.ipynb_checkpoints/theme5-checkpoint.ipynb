{
 "cells": [
  {
   "cell_type": "markdown",
   "metadata": {},
   "source": [
    "## Работа с файлами\n",
    "\n",
    "Для работы с файлами Python имеет стандартную функцию ``open``. <a href='https://docs.python.org/3/library/functions.html#open'>Документация на оффициальном сайте</a> описывает ее следующим образом:"
   ]
  },
  {
   "cell_type": "code",
   "execution_count": null,
   "metadata": {},
   "outputs": [],
   "source": [
    " open(file, mode='r', buffering=-1, encoding=None, errors=None, newline=None, closefd=True, opener=None)"
   ]
  },
  {
   "cell_type": "markdown",
   "metadata": {},
   "source": [
    "Для обычной работы с текстовыми файлами наиболее важными аргументами являются\n",
    "\n",
    "``file`` - строка (точнее <a href='https://docs.python.org/3/glossary.html#term-path-like-object'>path-like object</a>) имя относительного или полного пути к файлу. \n",
    "\n",
    "``mode`` - режим работы с файлом (можно комбинировать нижестоящие): \n",
    " \n",
    "    ``r`` - режим чтения\n",
    "    \n",
    "    ``w`` - режим записи (удаляет все содержимое файла)\n",
    "    \n",
    "    ``a`` - открывает для добавления (курсор в конце файла)\n",
    "    \n",
    "    ``+`` - открывает для обновления (курсор в начале файла)\n",
    "    \n",
    "    ``b`` - открывает в бинарном виде"
   ]
  }
 ],
 "metadata": {
  "kernelspec": {
   "display_name": "Python 3",
   "language": "python",
   "name": "python3"
  },
  "language_info": {
   "codemirror_mode": {
    "name": "ipython",
    "version": 3
   },
   "file_extension": ".py",
   "mimetype": "text/x-python",
   "name": "python",
   "nbconvert_exporter": "python",
   "pygments_lexer": "ipython3",
   "version": "3.6.5"
  }
 },
 "nbformat": 4,
 "nbformat_minor": 2
}
