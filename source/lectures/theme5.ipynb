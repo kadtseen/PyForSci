{
 "cells": [
  {
   "cell_type": "markdown",
   "metadata": {},
   "source": [
    "## Работа с файлами\n",
    "\n",
    "Для работы с файлами Python имеет стандартную функцию ``open``. <a href='https://docs.python.org/3/library/functions.html#open'>Документация на оффициальном сайте</a> описывает ее следующим образом:"
   ]
  },
  {
   "cell_type": "code",
   "execution_count": null,
   "metadata": {},
   "outputs": [],
   "source": [
    " open(file, mode='r', buffering=-1, encoding=None, errors=None, newline=None, closefd=True, opener=None)"
   ]
  },
  {
   "cell_type": "markdown",
   "metadata": {},
   "source": [
    "Для обычной работы с текстовыми файлами наиболее важными аргументами являются\n",
    "\n",
    "``file`` - строка (точнее <a href='https://docs.python.org/3/glossary.html#term-path-like-object'>path-like object</a>) имя относительного или полного пути к файлу. \n",
    "\n",
<<<<<<< HEAD
    "``mode`` - режим работы с файлом (можно комбинировать нижестоящие) \n",
    " \n",
    "   ``r`` - режим чтения\n",
    "    \n",
    "   ``w`` - режим записи (удаляет все содержимое файла)\n",
    "    \n",
    "   ``a`` - открывает для добавления (курсор в конце файла)\n",
    "    \n",
    "   ``+`` - открывает для обновления (курсор в начале файла)\n",
    "    \n",
    "   ``b`` - открывает в бинарном виде"
=======
    "Распределение и нумерация осей выглядит довольно простым образом:\n",
    "\n",
    "![axis.jpg](attachment:axis.jpg)"
   ]
  },
  {
   "cell_type": "code",
   "execution_count": 78,
   "metadata": {},
   "outputs": [
    {
     "name": "stdout",
     "output_type": "stream",
     "text": [
      "[[0 2 1]\n",
      " [3 2 5]\n",
      " [7 6 9]]\n",
      "[[3 5 6]\n",
      " [0 1 2]\n",
      " [2 7 9]]\n"
     ]
    }
   ],
   "source": [
    "a = [[3, 6, 5],\n",
    "     [0, 2, 1],\n",
    "     [7, 2, 9]]\n",
    "\n",
    "b = np.array(a)\n",
    "b.sort(0) # сортируем все колонки\n",
    "print(b)\n",
    "\n",
    "b = np.array(a)\n",
    "b.sort(1) # сортируем все строки\n",
    "print(b)"
   ]
  },
  {
   "cell_type": "markdown",
   "metadata": {},
   "source": [
    "``shape`` массива отобркжает его размеры по осям"
   ]
  },
  {
   "cell_type": "code",
   "execution_count": 79,
   "metadata": {},
   "outputs": [
    {
     "name": "stdout",
     "output_type": "stream",
     "text": [
      "(2, 3)\n"
     ]
    }
   ],
   "source": [
    "a = [[3, 6, 5],\n",
    "     [0, 2, 1]]\n",
    "\n",
    "b = np.array(a)\n",
    "print(b.shape)"
   ]
  },
  {
   "cell_type": "markdown",
   "metadata": {},
   "source": [
    "При необоходимости форму можно легко поменять:"
   ]
  },
  {
   "cell_type": "code",
   "execution_count": 104,
   "metadata": {},
   "outputs": [
    {
     "name": "stdout",
     "output_type": "stream",
     "text": [
      "[3 6 5 9 0 2 1 4]\n",
      "\n",
      "[[3]\n",
      " [6]\n",
      " [5]\n",
      " [9]\n",
      " [0]\n",
      " [2]\n",
      " [1]\n",
      " [4]]\n",
      "\n",
      "[[3 6]\n",
      " [5 9]\n",
      " [0 2]\n",
      " [1 4]]\n",
      "\n",
      "[[[3 6]\n",
      "  [5 9]]\n",
      "\n",
      " [[0 2]\n",
      "  [1 4]]]\n",
      "\n",
      "3\n"
     ]
    }
   ],
   "source": [
    "a = [[3, 6, 5, 9],\n",
    "     [0, 2, 1, 4]]\n",
    "\n",
    "b = np.array(a)\n",
    "print(b.reshape(8), end = '\\n\\n')\n",
    "print(b.reshape(8,1), end = '\\n\\n')\n",
    "print(b.reshape(4,2), end = '\\n\\n')\n",
    "print(b.reshape(2,2,2), end = '\\n\\n')\n",
    "print(b.reshape(2,2,2).ndim)"
   ]
  },
  {
   "cell_type": "markdown",
   "metadata": {},
   "source": [
    "## Создание шаблонных массивов NumPy\n",
    "NumPy поддерживает несколько вариантов создания массивов по шаблону. Мы рассмотрим три наиболее частоупотребимых из них:\n",
    "\n",
    "``np.ones(shape, [dtype=...])`` - создание массива из единиц формы shape\n",
    "\n",
    "``np.zeros(shape, [dtype=...])`` - создание массива из нулей формы shape\n",
    "\n",
    "``np.full(shape, value, [dtype=...])`` - создание массива из ``value`` формы shape"
   ]
  },
  {
   "cell_type": "code",
   "execution_count": 96,
   "metadata": {},
   "outputs": [
    {
     "name": "stdout",
     "output_type": "stream",
     "text": [
      "[[1. 1. 1. 1.]\n",
      " [1. 1. 1. 1.]]\n",
      "[0. 0. 0. 0. 0. 0. 0.]\n",
      "[[3.14159265 3.14159265]\n",
      " [3.14159265 3.14159265]\n",
      " [3.14159265 3.14159265]]\n"
     ]
    }
   ],
   "source": [
    "print(np.ones((2,4)))\n",
    "print(np.zeros(7))\n",
    "print(np.full((3,2), np.pi))"
   ]
  },
  {
   "cell_type": "markdown",
   "metadata": {},
   "source": [
    "Помимо этого NumPy поддерживает несколько функций, позволяющих генерировать ряды чисел:\n",
    "\n",
    "``np.arange(start, stop, step)`` - аналог ``range()``, возвращает ``ndarray`` поддерживает не целые числа\n",
    "\n",
    "``np.linspace(start, stop, num=50)`` - создает массив длиной ``num``, от ``start`` до ``stop`` (удобно для графиков)"
   ]
  },
  {
   "cell_type": "code",
   "execution_count": 103,
   "metadata": {},
   "outputs": [
    {
     "name": "stdout",
     "output_type": "stream",
     "text": [
      "[0.  0.1 0.2 0.3 0.4 0.5 0.6 0.7 0.8 0.9 1. ]\n",
      "[ 0.  -0.3 -0.6 -0.9]\n"
     ]
    }
   ],
   "source": [
    "print(np.linspace(0, 1, 11))\n",
    "print(np.arange(0, -1, -0.3))"
   ]
  },
  {
   "cell_type": "markdown",
   "metadata": {},
   "source": [
    "Модуль ``numpy.random`` содержит большое количество различных функций для генерации случайных чисел. В <a href='https://numpy.org/doc/stable/reference/random/legacy.html'>документации</a> описанны обширные возможности данного модуля."
   ]
  },
  {
   "cell_type": "markdown",
   "metadata": {},
   "source": [
    "## Метод ``copy`` \n",
    "В некоторых случаях у вас может появиться необходимость продублировать массив. При простом присваивание может образоваться следующая ситуация:"
   ]
  },
  {
   "cell_type": "code",
   "execution_count": 8,
   "metadata": {},
   "outputs": [
    {
     "name": "stdout",
     "output_type": "stream",
     "text": [
      "[-5 -3 -1  1  3  5]\n",
      "[ 5 -3 -1  1  3  5]\n"
     ]
    }
   ],
   "source": [
    "a = np.arange(-5, 6, 2)\n",
    "print(a)\n",
    "b = a\n",
    "a[0] += 10\n",
    "print(b)"
   ]
  },
  {
   "cell_type": "markdown",
   "metadata": {},
   "source": [
    "В этом случае, передается не сам объект а ссылка на него. Для того чтобы копия не менялась при копировании исходника, можно использовать метод ``np.copy()``."
   ]
  },
  {
   "cell_type": "code",
   "execution_count": 12,
   "metadata": {},
   "outputs": [
    {
     "name": "stdout",
     "output_type": "stream",
     "text": [
      "[-5 -3 -1  1  3  5]\n"
     ]
    }
   ],
   "source": [
    "a = np.arange(-5, 6, 2)\n",
    "b = np.copy(a)\n",
    "a[0] += 10\n",
    "print(b)"
   ]
  },
  {
   "cell_type": "markdown",
   "metadata": {},
   "source": [
    "# Линейная алгебра и SciPy.linalg\n",
    "Библиотека NumPy содержит модуль линейной алгебры ``numpy.linalg``. Этот модуль содержит простые базовые операции, как векторное умножение, перемножение матриц, простой поиск собственных чисел и значений матриц, детерминант и др. (<a href='https://numpy.org/doc/stable/reference/routines.linalg.html'>см. документацию</a>). Его функционал не полон, и иногда может быть полезно использовать дополнительно модуль ``scipy.linalg`` (<a href='https://docs.scipy.org/doc/scipy/reference/linalg.html#module-scipy.linalg'>документация</a>). \n",
    "\n",
    "Рассмотрим простые примеры использования модулей линейной алгебры.\n",
    "\n",
    "Поиск собственных векторов и собственных значений матриц: $ \\{A\\} \\cdot \\vec{v} - \\lambda \\vec{v} =0 $"
   ]
  },
  {
   "cell_type": "code",
   "execution_count": 49,
   "metadata": {},
   "outputs": [
    {
     "name": "stdout",
     "output_type": "stream",
     "text": [
      "[[1 2 3]\n",
      " [4 5 6]\n",
      " [7 8 9]]\n",
      "[ 1.61168440e+01 -1.11684397e+00 -9.75918483e-16]\n",
      "[[-0.23197069 -0.78583024  0.40824829]\n",
      " [-0.52532209 -0.08675134 -0.81649658]\n",
      " [-0.8186735   0.61232756  0.40824829]]\n",
      "[ 3.55271368e-15  0.00000000e+00 -1.77635684e-15]\n"
     ]
    }
   ],
   "source": [
    "a = np.arange(1, 10).reshape((3, 3))\n",
    "print(a) # исходная матрица\n",
    "vals, vects=np.linalg.eig(a)\n",
    "print(vals)\n",
    "print(vects)\n",
    "print(np.matmul(a, vects[:,0]) - vals[0] * vects[:,0])"
   ]
  },
  {
   "cell_type": "markdown",
   "metadata": {},
   "source": [
    "поиск обратной матрицы: "
   ]
  },
  {
   "cell_type": "code",
   "execution_count": 65,
   "metadata": {},
   "outputs": [
    {
     "name": "stdout",
     "output_type": "stream",
     "text": [
      "[[ 1.00000000e+00 -1.38777878e-17  0.00000000e+00]\n",
      " [-3.33066907e-16  1.00000000e+00  2.77555756e-17]\n",
      " [ 6.10622664e-16  1.24900090e-16  1.00000000e+00]]\n"
     ]
    }
   ],
   "source": [
    "from scipy.linalg import inv\n",
    "a = [[1, 3, 3],\n",
    "     [0,-5, 6],\n",
    "     [7, 8, 9]]\n",
    "b = inv(a)\n",
    "print(np.dot(a,b))"
>>>>>>> 2b323de474437e1aa83f23f4fb3e65674eef49ba
   ]
  }
 ],
 "metadata": {
  "kernelspec": {
   "display_name": "Python 3",
   "language": "python",
   "name": "python3"
  },
  "language_info": {
   "codemirror_mode": {
    "name": "ipython",
    "version": 3
   },
   "file_extension": ".py",
   "mimetype": "text/x-python",
   "name": "python",
   "nbconvert_exporter": "python",
   "pygments_lexer": "ipython3",
   "version": "3.8.3"
  }
 },
 "nbformat": 4,
 "nbformat_minor": 2
}
